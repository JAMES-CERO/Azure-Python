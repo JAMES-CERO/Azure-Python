{
 "cells": [
  {
   "attachments": {},
   "cell_type": "markdown",
   "metadata": {},
   "source": [
    "# Ship's Instruction Manual"
   ]
  },
  {
   "cell_type": "code",
   "execution_count": null,
   "metadata": {},
   "outputs": [],
   "source": [
    "pip install --upgrade pip"
   ]
  },
  {
   "cell_type": "code",
   "execution_count": null,
   "metadata": {},
   "outputs": [],
   "source": [
    "import ipywidgets as widgets\n",
    "\n",
    "ignition = widgets.ToggleButton(\n",
    "    value=False,\n",
    "    description='Start Engine',\n",
    "    button_style='success',\n",
    "    tooltip='Engage your Engine',\n",
    "    icon='rocket'\n",
    ")\n",
    "\n",
    "output = widgets.Output()\n",
    "\n",
    "display(ignition, output)\n",
    "\n",
    "def on_value_change(change):\n",
    "    with output:\n",
    "        if change['new'] == True:\n",
    "            print(\"engine started!\")\n",
    "        else:   \n",
    "            print(\"engine stopped\")\n",
    "\n",
    "ignition.observe(on_value_change, names='value')"
   ]
  },
  {
   "cell_type": "code",
   "execution_count": null,
   "metadata": {},
   "outputs": [],
   "source": [
    "pip install numpy"
   ]
  },
  {
   "cell_type": "code",
   "execution_count": null,
   "metadata": {},
   "outputs": [],
   "source": [
    "pip install matplotlib"
   ]
  },
  {
   "attachments": {},
   "cell_type": "markdown",
   "metadata": {},
   "source": [
    "## Oxigen Levels \n",
    "\n",
    "Display ten minutes of oxygen levels in your ship"
   ]
  },
  {
   "cell_type": "code",
   "execution_count": null,
   "metadata": {},
   "outputs": [],
   "source": [
    "import numpy as np\n",
    "import matplotlib.pyplot as plt\n",
    "data = np.random.default_rng(12345)\n",
    "oxy_nums = data.integers( low = 0, high = 10, size = 10)\n",
    "\n",
    "plt.bar(range(len(oxy_nums)), oxy_nums)\n",
    "plt.show()"
   ]
  },
  {
   "attachments": {},
   "cell_type": "markdown",
   "metadata": {},
   "source": [
    "## Ship's velocity\n",
    "\n",
    "Show the seconds needed to get from 0 to 60 meters per second, given the ship's acceleration in meters per second."
   ]
  },
  {
   "cell_type": "code",
   "execution_count": null,
   "metadata": {},
   "outputs": [],
   "source": [
    "endVelocity = 60\n",
    "startVelocity = 0\n",
    "acceleration = 9.8\n",
    "\n",
    "time = (endVelocity - startVelocity) / acceleration\n",
    "print(\"Time to reach desired velocity = \", time)"
   ]
  },
  {
   "cell_type": "code",
   "execution_count": null,
   "metadata": {},
   "outputs": [],
   "source": [
    "endVelocity = 100\n",
    "startVelocity = 20\n",
    "acceleration = 9.8\n",
    "\n",
    "time = (endVelocity - startVelocity) / acceleration\n",
    "print(\"Time to reach desired velocity = \", time)"
   ]
  },
  {
   "cell_type": "code",
   "execution_count": null,
   "metadata": {},
   "outputs": [],
   "source": [
    " pip install graphing"
   ]
  },
  {
   "cell_type": "code",
   "execution_count": null,
   "metadata": {},
   "outputs": [],
   "source": [
    "pip install pandas"
   ]
  },
  {
   "cell_type": "code",
   "execution_count": null,
   "metadata": {},
   "outputs": [],
   "source": [
    "import pandas as pd\n",
    "!pip install missingno\n",
    "\n",
    "# Load data from our dataset file into a pandas dataframe\n",
    "!wget https://raw.githubusercontent.com/MicrosoftDocs/mslearn-introduction-to-machine-learning/main/Data/titanic.csv\n",
    "!wget https://raw.githubusercontent.com/MicrosoftDocs/mslearn-introduction-to-machine-learning/main/graphing.py\n",
    "dataset = pd.read_csv('titanic', index_col=False, sep=\",\", header=0)\n",
    "\n",
    "# Let's take a look at the data\n",
    "dataset.head()\n"
   ]
  },
  {
   "cell_type": "markdown",
   "metadata": {},
   "source": []
  },
  {
   "cell_type": "code",
   "execution_count": null,
   "metadata": {},
   "outputs": [],
   "source": [
    "# Shape tells us how many rows and columns we have\n",
    "print(dataset.shape)"
   ]
  },
  {
   "attachments": {},
   "cell_type": "markdown",
   "metadata": {},
   "source": [
    "## Finding missind data"
   ]
  },
  {
   "cell_type": "code",
   "execution_count": null,
   "metadata": {},
   "outputs": [],
   "source": [
    "# Calculate the number of empty cells in each column\n",
    "# The following line consists of three commands. Try\n",
    "# to think about how they work together to calculate\n",
    "# the number of missing entries per column\n",
    "missing_data = dataset.isnull().sum().to_frame()\n",
    "\n",
    "# Rename column holding the sums\n",
    "missing_data = missing_data.rename(columns={0:'Empty Cells'})\n",
    "\n",
    "# Print the results\n",
    "print(missing_data)"
   ]
  },
  {
   "attachments": {},
   "cell_type": "markdown",
   "metadata": {},
   "source": [
    "First Inspection\n",
    "Let's reload the Titanic Dataset, and reacquaint ourselves with its data:"
   ]
  },
  {
   "cell_type": "code",
   "execution_count": null,
   "metadata": {},
   "outputs": [],
   "source": [
    "import pandas as pd\n",
    "\n",
    "# Load data from our dataset file into a pandas dataframe\n",
    "!wget https://raw.githubusercontent.com/MicrosoftDocs/mslearn-introduction-to-machine-learning/main/Data/titanic.csv\n",
    "!wget https://raw.githubusercontent.com/MicrosoftDocs/mslearn-introduction-to-machine-learning/main/graphing.py\n",
    "dataset = pd.read_csv('titanic.csv', index_col=False, sep=\",\", header=0)\n",
    "\n",
    "# Let's take a look at the data\n",
    "dataset.head()"
   ]
  },
  {
   "cell_type": "code",
   "execution_count": null,
   "metadata": {},
   "outputs": [],
   "source": [
    "dataset.info()"
   ]
  },
  {
   "attachments": {},
   "cell_type": "markdown",
   "metadata": {},
   "source": [
    "Visualising Ordinal Data\n",
    "Pclass - the ticket class\n",
    "Parch - the number of parents or children on the ship\n",
    "sibsp - the number of siblings or spouses on the ship"
   ]
  },
  {
   "cell_type": "code",
   "execution_count": null,
   "metadata": {},
   "outputs": [],
   "source": [
    "import graphing\n",
    "\n",
    "graphing.histogram(dataset, label_x='Pclass', label_y='Survived', histfunc='avg', include_boxplot=True)"
   ]
  },
  {
   "attachments": {},
   "cell_type": "markdown",
   "metadata": {},
   "source": [
    "Let's look at how survival varies, depending on whether a passenger had parents or children on the ship\n",
    "\n"
   ]
  },
  {
   "cell_type": "code",
   "execution_count": null,
   "metadata": {},
   "outputs": [],
   "source": [
    "graphing.multiple_histogram(dataset, \n",
    "                            label_x='Pclass', # group by ticket class\n",
    "                            label_group=\"Parch\", # colour by no parents or children\n",
    "                            label_y='Survived', \n",
    "                            histfunc=\"avg\")"
   ]
  },
  {
   "attachments": {},
   "cell_type": "markdown",
   "metadata": {},
   "source": [
    "Visualising Continuous Data\n",
    "Continuous data are usually best viewed using either:\n",
    "\n",
    "An XY scatter plot, especially for relationships between two continuous features\n",
    "Histograms or Box and Whisker plots, to look at the spread of data\n",
    "Our dataset has Age and Fare as continuous data columns. Let's view them:"
   ]
  },
  {
   "cell_type": "code",
   "execution_count": null,
   "metadata": {},
   "outputs": [],
   "source": [
    "graphing.scatter_2D(dataset, label_x=\"Age\", label_y=\"Fare\")"
   ]
  },
  {
   "attachments": {},
   "cell_type": "markdown",
   "metadata": {},
   "source": [
    "We don't see an obvious relationship between Age and Fare.\n",
    "\n",
    "Does the cost of a fare, or the person's age, have any relationship with likelihood of survival?"
   ]
  },
  {
   "cell_type": "code",
   "execution_count": null,
   "metadata": {},
   "outputs": [],
   "source": [
    "# Plot Fare vs Survival\n",
    "graphing.histogram(dataset, label_x=\"Fare\", label_y=\"Survived\", histfunc=\"avg\", nbins=30, title=\"Fare vs Survival\", include_boxplot=True, show=True)\n",
    "\n",
    "# Plot Age vs Survival\n",
    "graphing.histogram(dataset, label_x=\"Age\", label_y=\"Survived\", histfunc=\"avg\", title=\"Age vs Survival\", nbins=30, include_boxplot=True)"
   ]
  },
  {
   "cell_type": "markdown",
   "metadata": {},
   "source": []
  }
 ],
 "metadata": {
  "kernelspec": {
   "display_name": "Python 3",
   "language": "python",
   "name": "python3"
  },
  "language_info": {
   "codemirror_mode": {
    "name": "ipython",
    "version": 3
   },
   "file_extension": ".py",
   "mimetype": "text/x-python",
   "name": "python",
   "nbconvert_exporter": "python",
   "pygments_lexer": "ipython3",
   "version": "3.11.3"
  },
  "orig_nbformat": 4
 },
 "nbformat": 4,
 "nbformat_minor": 2
}
